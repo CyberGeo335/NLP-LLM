{
 "cells": [
  {
   "cell_type": "markdown",
   "metadata": {},
   "source": [
    "# Install SpaCy\n",
    "\n",
    "OS: X\n",
    "\n",
    "platform: pip\n",
    "\n",
    "Hardware: CPU\n",
    "\n",
    "pipelines: en-ru\n",
    "\n",
    "Select pipeline for: efficiency\n",
    "\n",
    "====================================\n",
    "\n",
    "pip install -U pip setuptools wheel\n",
    "\n",
    "pip install -U spacy\n",
    "\n",
    "python -m spacy download en_core_web_sm\n",
    "\n",
    "python -m spacy download ru_core_news_sm"
   ]
  },
  {
   "cell_type": "code",
   "execution_count": 57,
   "metadata": {},
   "outputs": [],
   "source": [
    "import spacy "
   ]
  },
  {
   "cell_type": "code",
   "execution_count": 58,
   "metadata": {},
   "outputs": [],
   "source": [
    "# загружаем модель \n",
    "nlp = spacy.load('en_core_web_sm')"
   ]
  },
  {
   "cell_type": "markdown",
   "metadata": {},
   "source": [
    "<image src=\"/lessons/NLP && LLM/images/Снимок экрана 2024-05-26 в 12.05.03.png\">"
   ]
  },
  {
   "cell_type": "markdown",
   "metadata": {},
   "source": [
    "<h4> Container </h4>\n",
    "\n",
    "container are spaCy objects. They are contain a large quantity of data about a text\n",
    "\n",
    "The full list of all spacy:\n",
    "1) Doc\n",
    "2) DocBin\n",
    "3) Example\n",
    "4) Language\n",
    "5) Lexeme\n",
    "6) Span\n",
    "7) SpanGroup\n",
    "8) Token\n"
   ]
  },
  {
   "cell_type": "code",
   "execution_count": 93,
   "metadata": {},
   "outputs": [],
   "source": [
    "with open ('data/text_to_spacy.txt', 'r') as f:\n",
    "    text = f.read()\n",
    "\n",
    "#print(text)"
   ]
  },
  {
   "cell_type": "code",
   "execution_count": 94,
   "metadata": {},
   "outputs": [],
   "source": [
    "doc = nlp(text)"
   ]
  },
  {
   "cell_type": "code",
   "execution_count": 95,
   "metadata": {},
   "outputs": [],
   "source": [
    "#print(doc)"
   ]
  },
  {
   "cell_type": "code",
   "execution_count": 96,
   "metadata": {},
   "outputs": [
    {
     "name": "stdout",
     "output_type": "stream",
     "text": [
      "9197\n",
      "2100\n"
     ]
    }
   ],
   "source": [
    "# вывод длин text и doc\n",
    "# отличие в том, что len(text) выводиит посимвольно, а len(doc) по токенам в слов (1 слово - 1токен)\n",
    "\n",
    "print(len(text))\n",
    "print(len(doc))"
   ]
  },
  {
   "cell_type": "code",
   "execution_count": 97,
   "metadata": {},
   "outputs": [
    {
     "name": "stdout",
     "output_type": "stream",
     "text": [
      "S\n",
      "e\n",
      "r\n",
      "g\n",
      "e\n",
      "a\n",
      "n\n",
      "t\n",
      " \n"
     ]
    }
   ],
   "source": [
    "# вывод первых 9 токеннов в text\n",
    "for token in text[0:9]:\n",
    "    print(token)"
   ]
  },
  {
   "cell_type": "code",
   "execution_count": 98,
   "metadata": {},
   "outputs": [
    {
     "name": "stdout",
     "output_type": "stream",
     "text": [
      "Sergeant\n",
      "Frank\n",
      "Spike\n",
      "sat\n",
      "behind\n",
      "his\n",
      "desk\n",
      "and\n",
      "stared\n"
     ]
    }
   ],
   "source": [
    "# вывод первых 9 токеннов в doc\n",
    "for token in doc[0:9]:\n",
    "    print(token)"
   ]
  },
  {
   "cell_type": "code",
   "execution_count": 99,
   "metadata": {},
   "outputs": [
    {
     "name": "stdout",
     "output_type": "stream",
     "text": [
      "Sergeant Frank Spike sat behind his desk and stared out of the window.\n"
     ]
    }
   ],
   "source": [
    "for sent in doc.sents:\n",
    "    print(sent)\n",
    "    break"
   ]
  },
  {
   "cell_type": "code",
   "execution_count": 100,
   "metadata": {},
   "outputs": [
    {
     "name": "stdout",
     "output_type": "stream",
     "text": [
      "Sergeant Frank Spike sat behind his desk and stared out of the window.\n"
     ]
    }
   ],
   "source": [
    "sent1 = list(doc.sents)[0]\n",
    "print(sent1)"
   ]
  },
  {
   "cell_type": "code",
   "execution_count": 101,
   "metadata": {},
   "outputs": [
    {
     "name": "stdout",
     "output_type": "stream",
     "text": [
      "Sergeant\n",
      "Frank\n",
      "Spike\n",
      "sat\n",
      "behind\n",
      "his\n",
      "desk\n",
      "and\n",
      "stared\n",
      "out\n"
     ]
    }
   ],
   "source": [
    "for token in doc[0:10]:\n",
    "    print(token)"
   ]
  },
  {
   "cell_type": "code",
   "execution_count": 102,
   "metadata": {},
   "outputs": [
    {
     "name": "stdout",
     "output_type": "stream",
     "text": [
      "Spike\n"
     ]
    }
   ],
   "source": [
    "token2 = sent1[2]\n",
    "print(token2)"
   ]
  },
  {
   "cell_type": "code",
   "execution_count": 103,
   "metadata": {},
   "outputs": [
    {
     "data": {
      "text/plain": [
       "'Spike'"
      ]
     },
     "execution_count": 103,
     "metadata": {},
     "output_type": "execute_result"
    }
   ],
   "source": [
    "token2.text"
   ]
  },
  {
   "cell_type": "code",
   "execution_count": 104,
   "metadata": {},
   "outputs": [
    {
     "name": "stdout",
     "output_type": "stream",
     "text": [
      "token2.left_edge: Sergeant\n",
      "token2.right_edge: Spike\n"
     ]
    }
   ],
   "source": [
    "print('token2.left_edge:', token2.left_edge)\n",
    "print('token2.right_edge:', token2.right_edge)"
   ]
  },
  {
   "cell_type": "code",
   "execution_count": 105,
   "metadata": {},
   "outputs": [
    {
     "data": {
      "text/plain": [
       "380"
      ]
     },
     "execution_count": 105,
     "metadata": {},
     "output_type": "execute_result"
    }
   ],
   "source": [
    "token2.ent_type"
   ]
  },
  {
   "cell_type": "code",
   "execution_count": null,
   "metadata": {},
   "outputs": [],
   "source": []
  },
  {
   "cell_type": "code",
   "execution_count": null,
   "metadata": {},
   "outputs": [],
   "source": []
  },
  {
   "cell_type": "code",
   "execution_count": null,
   "metadata": {},
   "outputs": [],
   "source": []
  }
 ],
 "metadata": {
  "kernelspec": {
   "display_name": "Python 3",
   "language": "python",
   "name": "python3"
  },
  "language_info": {
   "codemirror_mode": {
    "name": "ipython",
    "version": 3
   },
   "file_extension": ".py",
   "mimetype": "text/x-python",
   "name": "python",
   "nbconvert_exporter": "python",
   "pygments_lexer": "ipython3",
   "version": "3.11.9"
  }
 },
 "nbformat": 4,
 "nbformat_minor": 2
}
