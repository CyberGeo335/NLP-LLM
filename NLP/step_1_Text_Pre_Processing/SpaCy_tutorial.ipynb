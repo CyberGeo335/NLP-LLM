{
 "cells": [
  {
   "cell_type": "markdown",
   "metadata": {},
   "source": [
    "# Install SpaCy\n",
    "\n",
    "OS: X\n",
    "\n",
    "platform: pip\n",
    "\n",
    "Hardware: CPU\n",
    "\n",
    "pipelines: en-ru\n",
    "\n",
    "Select pipeline for: efficiency\n",
    "\n",
    "====================================\n",
    "\n",
    "pip install -U pip setuptools wheel\n",
    "\n",
    "pip install -U spacy\n",
    "\n",
    "python -m spacy download en_core_web_sm\n",
    "\n",
    "python -m spacy download ru_core_news_sm"
   ]
  },
  {
   "cell_type": "markdown",
   "metadata": {},
   "source": [
    "# Chapter 1 (Linguistic Annotations)"
   ]
  },
  {
   "cell_type": "code",
   "execution_count": 57,
   "metadata": {},
   "outputs": [],
   "source": [
    "import spacy "
   ]
  },
  {
   "cell_type": "code",
   "execution_count": 106,
   "metadata": {},
   "outputs": [],
   "source": [
    "# загружаем модель \n",
    "nlp = spacy.load('en_core_web_sm')"
   ]
  },
  {
   "cell_type": "markdown",
   "metadata": {},
   "source": []
  },
  {
   "cell_type": "markdown",
   "metadata": {},
   "source": [
    "<h4> Container </h4>\n",
    "\n",
    "container are spaCy objects. They are contain a large quantity of data about a text\n",
    "\n",
    "The full list of all spacy:\n",
    "1) Doc\n",
    "2) DocBin\n",
    "3) Example\n",
    "4) Language\n",
    "5) Lexeme\n",
    "6) Span\n",
    "7) SpanGroup\n",
    "8) Token\n"
   ]
  },
  {
   "cell_type": "code",
   "execution_count": 93,
   "metadata": {},
   "outputs": [],
   "source": [
    "with open ('data/text_to_spacy.txt', 'r') as f:\n",
    "    text = f.read()\n",
    "\n",
    "#print(text)"
   ]
  },
  {
   "cell_type": "markdown",
   "metadata": {},
   "source": [
    "<h4> Doc </h4>\n",
    "\n",
    "doc - it is container for the hole text"
   ]
  },
  {
   "cell_type": "code",
   "execution_count": 94,
   "metadata": {},
   "outputs": [],
   "source": [
    "doc = nlp(text)"
   ]
  },
  {
   "cell_type": "code",
   "execution_count": 95,
   "metadata": {},
   "outputs": [],
   "source": [
    "#print(doc)"
   ]
  },
  {
   "cell_type": "code",
   "execution_count": 96,
   "metadata": {},
   "outputs": [
    {
     "name": "stdout",
     "output_type": "stream",
     "text": [
      "9197\n",
      "2100\n"
     ]
    }
   ],
   "source": [
    "# вывод длин text и doc\n",
    "# отличие в том, что len(text) выводиит посимвольно, а len(doc) по токенам в слов (1 слово - 1токен)\n",
    "\n",
    "print(len(text))\n",
    "print(len(doc))"
   ]
  },
  {
   "cell_type": "code",
   "execution_count": 97,
   "metadata": {},
   "outputs": [
    {
     "name": "stdout",
     "output_type": "stream",
     "text": [
      "S\n",
      "e\n",
      "r\n",
      "g\n",
      "e\n",
      "a\n",
      "n\n",
      "t\n",
      " \n"
     ]
    }
   ],
   "source": [
    "# вывод первых 9 токеннов в text\n",
    "for token in text[0:9]:\n",
    "    print(token)"
   ]
  },
  {
   "cell_type": "code",
   "execution_count": 98,
   "metadata": {},
   "outputs": [
    {
     "name": "stdout",
     "output_type": "stream",
     "text": [
      "Sergeant\n",
      "Frank\n",
      "Spike\n",
      "sat\n",
      "behind\n",
      "his\n",
      "desk\n",
      "and\n",
      "stared\n"
     ]
    }
   ],
   "source": [
    "# вывод первых 9 токеннов в doc\n",
    "for token in doc[0:9]:\n",
    "    print(token)"
   ]
  },
  {
   "cell_type": "markdown",
   "metadata": {},
   "source": [
    "<h4> Sentence Boundary Detection or SBD </h4>\n",
    "\n",
    "SBD - identification od sentences in a text\n",
    "\n",
    "SBD позволяет нам разделять разделять текст на предложения"
   ]
  },
  {
   "cell_type": "code",
   "execution_count": 107,
   "metadata": {},
   "outputs": [
    {
     "name": "stdout",
     "output_type": "stream",
     "text": [
      "Sergeant Frank Spike sat behind his desk and stared out of the window.\n"
     ]
    }
   ],
   "source": [
    "# вывод sentence\n",
    "for sent in doc.sents:\n",
    "    print(sent)\n",
    "    break"
   ]
  },
  {
   "cell_type": "code",
   "execution_count": 108,
   "metadata": {},
   "outputs": [
    {
     "name": "stdout",
     "output_type": "stream",
     "text": [
      "Sergeant Frank Spike sat behind his desk and stared out of the window.\n"
     ]
    }
   ],
   "source": [
    "# создание перменной sentence1 и загрузка туда sentence из текста\n",
    "sent1 = list(doc.sents)[0]\n",
    "print(sent1)"
   ]
  },
  {
   "cell_type": "markdown",
   "metadata": {},
   "source": [
    "Now we have the first sentence. Now that we have a smaller text, we can explore spaCy’s other building block, the token.\n",
    "\n",
    "<h4> Token </h4>\n",
    "\n",
    "Token - it's a link to the individual words of document"
   ]
  },
  {
   "cell_type": "code",
   "execution_count": 117,
   "metadata": {},
   "outputs": [
    {
     "name": "stdout",
     "output_type": "stream",
     "text": [
      "Sergeant\n",
      "Frank\n",
      "Spike\n",
      "sat\n",
      "behind\n",
      "his\n",
      "desk\n",
      "and\n",
      "stared\n",
      "out\n",
      "of\n",
      "the\n",
      "window\n",
      ".\n"
     ]
    }
   ],
   "source": [
    "for token in doc[0:14]:\n",
    "    print(token)"
   ]
  },
  {
   "cell_type": "code",
   "execution_count": 118,
   "metadata": {},
   "outputs": [
    {
     "name": "stdout",
     "output_type": "stream",
     "text": [
      "Spike\n"
     ]
    }
   ],
   "source": [
    "# возвращает 2 токен по счёту в sentence\n",
    "token2 = sent1[2]\n",
    "print(token2)"
   ]
  },
  {
   "cell_type": "markdown",
   "metadata": {},
   "source": [
    "Token has a lot of different methods, such as:"
   ]
  },
  {
   "cell_type": "code",
   "execution_count": 124,
   "metadata": {},
   "outputs": [
    {
     "name": "stdout",
     "output_type": "stream",
     "text": [
      "token2.text: Spike\n",
      "token2.left_edge: Sergeant\n",
      "token2.right_edge: Spike\n",
      "token2.ent_type: 380\n",
      "token2.ent_type_: PERSON\n",
      "token2.ent_iob_ I\n",
      "token2.lemma_ Spike\n"
     ]
    }
   ],
   "source": [
    "# возвращает текстовое содержимое токена\n",
    "print('token2.text:', token2.text)\n",
    "\n",
    "# возвращает крайний левый токет из поддерева текущего токена (как я понмаю возвращает первое слово с которым связан наш текущий токен)\n",
    "print('token2.left_edge:', token2.left_edge)\n",
    "\n",
    "# возвращает крайний правый токет из поддерева текущего токена (возвращает последнее слово с которым связан наш текущий токен)\n",
    "print('token2.right_edge:', token2.right_edge)\n",
    "\n",
    "#возвращает целочсленнные индкаторы типа именованнной сущности, если токен является частью именнованной сущности, возвращает код который относится к определённному множеству\n",
    "print('token2.ent_type:', token2.ent_type)\n",
    "\n",
    "#возвращает строковое представление типа именнованной сущности\n",
    "print('token2.ent_type_:', token2.ent_type_)\n",
    "\n",
    "\"\"\"\n",
    "Метод используется для определения позиции токена внутри именованной сущности (BIOES)\n",
    "B - begin - токен является первым токеном менннованной сущности  \n",
    "I - inside - токен находится внутри именованной сущности, но не является первым токеном\n",
    "O - out - токен не является частью именованной сущности\n",
    "E - end - токен является последним токеном именованной сущности\n",
    "S - single - токен является единственным токеном именованой сущности\n",
    "\"\"\"\n",
    "print('token2.ent_iob_', token2.ent_iob_)\n",
    "\n",
    "# базовая или канноническая форма слова (типа rinning -> run)\n",
    "print('token2.lemma_', token2.lemma_)"
   ]
  },
  {
   "cell_type": "code",
   "execution_count": null,
   "metadata": {},
   "outputs": [],
   "source": []
  },
  {
   "cell_type": "code",
   "execution_count": null,
   "metadata": {},
   "outputs": [],
   "source": []
  },
  {
   "cell_type": "code",
   "execution_count": null,
   "metadata": {},
   "outputs": [],
   "source": []
  },
  {
   "cell_type": "code",
   "execution_count": null,
   "metadata": {},
   "outputs": [],
   "source": []
  },
  {
   "cell_type": "code",
   "execution_count": null,
   "metadata": {},
   "outputs": [],
   "source": []
  }
 ],
 "metadata": {
  "kernelspec": {
   "display_name": "Python 3",
   "language": "python",
   "name": "python3"
  },
  "language_info": {
   "codemirror_mode": {
    "name": "ipython",
    "version": 3
   },
   "file_extension": ".py",
   "mimetype": "text/x-python",
   "name": "python",
   "nbconvert_exporter": "python",
   "pygments_lexer": "ipython3",
   "version": "3.11.9"
  }
 },
 "nbformat": 4,
 "nbformat_minor": 2
}
